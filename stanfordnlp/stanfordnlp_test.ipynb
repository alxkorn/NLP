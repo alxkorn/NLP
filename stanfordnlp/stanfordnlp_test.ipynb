{
 "cells": [
  {
   "cell_type": "code",
   "execution_count": 65,
   "metadata": {
    "collapsed": false
   },
   "outputs": [],
   "source": [
    "import stanfordnlp\n",
    "import graphviz\n",
    "import networkx as nx\n",
    "import matplotlib.pyplot as plt\n",
    "import copy\n",
    "%matplotlib inline"
   ]
  },
  {
   "cell_type": "markdown",
   "metadata": {},
   "source": [
    "### Загрузка модели"
   ]
  },
  {
   "cell_type": "code",
   "execution_count": 54,
   "metadata": {
    "collapsed": false,
    "scrolled": true
   },
   "outputs": [
    {
     "name": "stdout",
     "output_type": "stream",
     "text": [
      "Using the default treebank \"ru_syntagrus\" for language \"ru\".\n",
      "Would you like to download the models for: ru_syntagrus now? (Y/n)\n",
      "Y\n",
      "\n",
      "Default download directory: /home/alex/stanfordnlp_resources\n",
      "Hit enter to continue or type an alternate directory.\n",
      "\n",
      "\n",
      "Downloading models for: ru_syntagrus\n",
      "Download location: /home/alex/stanfordnlp_resources/ru_syntagrus_models.zip\n"
     ]
    },
    {
     "name": "stderr",
     "output_type": "stream",
     "text": [
      "100%|██████████| 236M/236M [06:12<00:00, 677kB/s]  \n"
     ]
    },
    {
     "name": "stdout",
     "output_type": "stream",
     "text": [
      "\n",
      "Download complete.  Models saved to: /home/alex/stanfordnlp_resources/ru_syntagrus_models.zip\n",
      "Extracting models file for: ru_syntagrus\n",
      "Cleaning up...Done.\n"
     ]
    }
   ],
   "source": [
    "#stanfordnlp.download('ru') "
   ]
  },
  {
   "cell_type": "markdown",
   "metadata": {},
   "source": [
    "### Инициализация пайплайна nlp, загрузка моделей в память"
   ]
  },
  {
   "cell_type": "code",
   "execution_count": 2,
   "metadata": {
    "collapsed": false
   },
   "outputs": [
    {
     "name": "stdout",
     "output_type": "stream",
     "text": [
      "Use device: cpu\n",
      "---\n",
      "Loading: tokenize\n",
      "With settings: \n",
      "{'model_path': '/home/alex/stanfordnlp_resources/ru_syntagrus_models/ru_syntagrus_tokenizer.pt', 'lang': 'ru', 'shorthand': 'ru_syntagrus', 'mode': 'predict'}\n",
      "---\n",
      "Loading: pos\n",
      "With settings: \n",
      "{'model_path': '/home/alex/stanfordnlp_resources/ru_syntagrus_models/ru_syntagrus_tagger.pt', 'pretrain_path': '/home/alex/stanfordnlp_resources/ru_syntagrus_models/ru_syntagrus.pretrain.pt', 'lang': 'ru', 'shorthand': 'ru_syntagrus', 'mode': 'predict'}\n",
      "---\n",
      "Loading: lemma\n",
      "With settings: \n",
      "{'model_path': '/home/alex/stanfordnlp_resources/ru_syntagrus_models/ru_syntagrus_lemmatizer.pt', 'lang': 'ru', 'shorthand': 'ru_syntagrus', 'mode': 'predict'}\n",
      "Building an attentional Seq2Seq model...\n",
      "Using a Bi-LSTM encoder\n",
      "Using soft attention for LSTM.\n",
      "Finetune all embeddings.\n",
      "[Running seq2seq lemmatizer with edit classifier]\n",
      "---\n",
      "Loading: depparse\n",
      "With settings: \n",
      "{'model_path': '/home/alex/stanfordnlp_resources/ru_syntagrus_models/ru_syntagrus_parser.pt', 'pretrain_path': '/home/alex/stanfordnlp_resources/ru_syntagrus_models/ru_syntagrus.pretrain.pt', 'lang': 'ru', 'shorthand': 'ru_syntagrus', 'mode': 'predict'}\n",
      "Done loading processors!\n",
      "---\n"
     ]
    }
   ],
   "source": [
    "nlp = stanfordnlp.Pipeline(lang='ru')"
   ]
  },
  {
   "cell_type": "markdown",
   "metadata": {},
   "source": [
    "### Запуск пайплайна nlp на документе\n",
    "Документ - текст, состоящий из нескольких предложений."
   ]
  },
  {
   "cell_type": "code",
   "execution_count": 3,
   "metadata": {
    "collapsed": true
   },
   "outputs": [],
   "source": [
    "doc = nlp(\"Перед красным деревянным столом стоит черный металлический стул .\")"
   ]
  },
  {
   "cell_type": "markdown",
   "metadata": {},
   "source": [
    "### Печать зависимостей в первом предложении"
   ]
  },
  {
   "cell_type": "code",
   "execution_count": 4,
   "metadata": {
    "collapsed": false
   },
   "outputs": [
    {
     "name": "stdout",
     "output_type": "stream",
     "text": [
      "('Перед', '4', 'case')\n",
      "('красным', '4', 'amod')\n",
      "('деревянным', '4', 'amod')\n",
      "('столом', '5', 'obl')\n",
      "('стоит', '0', 'root')\n",
      "('черный', '8', 'amod')\n",
      "('металлический', '8', 'amod')\n",
      "('стул', '5', 'nsubj')\n",
      "('.', '5', 'punct')\n"
     ]
    }
   ],
   "source": [
    "doc.sentences[0].print_dependencies()"
   ]
  },
  {
   "cell_type": "markdown",
   "metadata": {},
   "source": [
    "### Полная информация о зависимостях и атрибутах токенов"
   ]
  },
  {
   "cell_type": "code",
   "execution_count": 73,
   "metadata": {
    "collapsed": false
   },
   "outputs": [
    {
     "data": {
      "text/plain": [
       "[(<Word index=4;text=столом;lemma=стол;upos=NOUN;xpos=_;feats=Animacy=Inan|Case=Ins|Gender=Masc|Number=Sing;governor=5;dependency_relation=obl>,\n",
       "  'case',\n",
       "  <Word index=1;text=Перед;lemma=перед;upos=ADP;xpos=_;feats=_;governor=4;dependency_relation=case>),\n",
       " (<Word index=4;text=столом;lemma=стол;upos=NOUN;xpos=_;feats=Animacy=Inan|Case=Ins|Gender=Masc|Number=Sing;governor=5;dependency_relation=obl>,\n",
       "  'amod',\n",
       "  <Word index=2;text=красным;lemma=красный;upos=ADJ;xpos=_;feats=Case=Ins|Degree=Pos|Gender=Masc|Number=Sing;governor=4;dependency_relation=amod>),\n",
       " (<Word index=4;text=столом;lemma=стол;upos=NOUN;xpos=_;feats=Animacy=Inan|Case=Ins|Gender=Masc|Number=Sing;governor=5;dependency_relation=obl>,\n",
       "  'amod',\n",
       "  <Word index=3;text=деревянным;lemma=деревянный;upos=ADJ;xpos=_;feats=Case=Ins|Degree=Pos|Gender=Masc|Number=Sing;governor=4;dependency_relation=amod>),\n",
       " (<Word index=5;text=стоит;lemma=стоить;upos=VERB;xpos=_;feats=Aspect=Imp|Mood=Ind|Number=Sing|Person=3|Tense=Pres|VerbForm=Fin|Voice=Act;governor=0;dependency_relation=root>,\n",
       "  'obl',\n",
       "  <Word index=4;text=столом;lemma=стол;upos=NOUN;xpos=_;feats=Animacy=Inan|Case=Ins|Gender=Masc|Number=Sing;governor=5;dependency_relation=obl>),\n",
       " (<Word index=0;text=ROOT>,\n",
       "  'root',\n",
       "  <Word index=5;text=стоит;lemma=стоить;upos=VERB;xpos=_;feats=Aspect=Imp|Mood=Ind|Number=Sing|Person=3|Tense=Pres|VerbForm=Fin|Voice=Act;governor=0;dependency_relation=root>),\n",
       " (<Word index=8;text=стул;lemma=стул;upos=NOUN;xpos=_;feats=Animacy=Inan|Case=Nom|Gender=Masc|Number=Sing;governor=5;dependency_relation=nsubj>,\n",
       "  'amod',\n",
       "  <Word index=6;text=черный;lemma=черный;upos=ADJ;xpos=_;feats=Case=Nom|Degree=Pos|Gender=Masc|Number=Sing;governor=8;dependency_relation=amod>),\n",
       " (<Word index=8;text=стул;lemma=стул;upos=NOUN;xpos=_;feats=Animacy=Inan|Case=Nom|Gender=Masc|Number=Sing;governor=5;dependency_relation=nsubj>,\n",
       "  'amod',\n",
       "  <Word index=7;text=металлический;lemma=металлический;upos=ADJ;xpos=_;feats=Case=Nom|Degree=Pos|Gender=Masc|Number=Sing;governor=8;dependency_relation=amod>),\n",
       " (<Word index=5;text=стоит;lemma=стоить;upos=VERB;xpos=_;feats=Aspect=Imp|Mood=Ind|Number=Sing|Person=3|Tense=Pres|VerbForm=Fin|Voice=Act;governor=0;dependency_relation=root>,\n",
       "  'nsubj',\n",
       "  <Word index=8;text=стул;lemma=стул;upos=NOUN;xpos=_;feats=Animacy=Inan|Case=Nom|Gender=Masc|Number=Sing;governor=5;dependency_relation=nsubj>),\n",
       " (<Word index=5;text=стоит;lemma=стоить;upos=VERB;xpos=_;feats=Aspect=Imp|Mood=Ind|Number=Sing|Person=3|Tense=Pres|VerbForm=Fin|Voice=Act;governor=0;dependency_relation=root>,\n",
       "  'punct',\n",
       "  <Word index=9;text=.;lemma=.;upos=PUNCT;xpos=_;feats=_;governor=5;dependency_relation=punct>)]"
      ]
     },
     "execution_count": 73,
     "metadata": {},
     "output_type": "execute_result"
    }
   ],
   "source": [
    "doc.sentences[0].dependencies"
   ]
  },
  {
   "cell_type": "markdown",
   "metadata": {},
   "source": [
    "### Класс для преобразования результата парсинга в направленный граф и работы с ним"
   ]
  },
  {
   "cell_type": "code",
   "execution_count": 109,
   "metadata": {
    "collapsed": false
   },
   "outputs": [],
   "source": [
    "class ParseTree:\n",
    "    def __init__(self, dep_parse):\n",
    "        self.DG = self.create_dg(dep_parse) # граф из networkx - физическая структура данных\n",
    "        self.VDG = self.create_vdg(self.DG) # визуальный граф из graphvis - тлько для визуализации и отладки\n",
    "        \n",
    "    def word2dct(self, word):\n",
    "        dct = copy.copy(word.__dict__)\n",
    "        del dct['_index'], \\\n",
    "            dct['_governor'], \\\n",
    "            dct['_dependency_relation'], \\\n",
    "            dct['_parent_token']\n",
    "        dct = dict((key.replace('_',''), value) for (key, value) in dct.items())\n",
    "        return dct\n",
    "        \n",
    "    def create_dg(self, dep_parse):\n",
    "        DG = nx.DiGraph()\n",
    "        for dep in dep_parse:\n",
    "            if dep[2].upos != 'PUNCT':\n",
    "                attributes = self.word2dct(dep[2])\n",
    "                DG.add_node(dep[2].index, **attributes)\n",
    "        for dep in dep_parse:\n",
    "            if dep[0].text != 'ROOT' and dep[2].upos != 'PUNCT':\n",
    "                DG.add_edge(dep[0].index, dep[2].index, dependency_relation = dep[1])\n",
    "        return DG\n",
    "    \n",
    "    def create_vdg(self, dg):\n",
    "        VDG = graphviz.Digraph()\n",
    "        for node in dg.nodes(data=True):\n",
    "            VDG.node(node[0], node[1]['text'])\n",
    "        for edge in dg.edges(data=True):\n",
    "            VDG.edge(edge[0], edge[1], edge[2]['dependency_relation'])\n",
    "        return VDG\n",
    "    \n",
    "    def create_subgraph(self, root_node_index):\n",
    "        sub_nodes = list(pt.DG.successors(root_node_index)) + [root_node_index]\n",
    "        sg = self.DG.subgraph(sub_nodes)\n",
    "        vsg = self.create_vdg(sg)\n",
    "        return sg, vsg"
   ]
  },
  {
   "cell_type": "code",
   "execution_count": 101,
   "metadata": {
    "collapsed": false
   },
   "outputs": [],
   "source": [
    "pt = ParseTree(doc.sentences[0].dependencies)"
   ]
  },
  {
   "cell_type": "markdown",
   "metadata": {},
   "source": [
    "#### Узлы, ребра и их атрибуты"
   ]
  },
  {
   "cell_type": "code",
   "execution_count": 102,
   "metadata": {
    "collapsed": false
   },
   "outputs": [
    {
     "name": "stdout",
     "output_type": "stream",
     "text": [
      "('1', {'text': 'Перед', 'lemma': 'перед', 'upos': 'ADP', 'xpos': '_', 'feats': '_'})\n",
      "('2', {'text': 'красным', 'lemma': 'красный', 'upos': 'ADJ', 'xpos': '_', 'feats': 'Case=Ins|Degree=Pos|Gender=Masc|Number=Sing'})\n",
      "('3', {'text': 'деревянным', 'lemma': 'деревянный', 'upos': 'ADJ', 'xpos': '_', 'feats': 'Case=Ins|Degree=Pos|Gender=Masc|Number=Sing'})\n",
      "('4', {'text': 'столом', 'lemma': 'стол', 'upos': 'NOUN', 'xpos': '_', 'feats': 'Animacy=Inan|Case=Ins|Gender=Masc|Number=Sing'})\n",
      "('5', {'text': 'стоит', 'lemma': 'стоить', 'upos': 'VERB', 'xpos': '_', 'feats': 'Aspect=Imp|Mood=Ind|Number=Sing|Person=3|Tense=Pres|VerbForm=Fin|Voice=Act'})\n",
      "('6', {'text': 'черный', 'lemma': 'черный', 'upos': 'ADJ', 'xpos': '_', 'feats': 'Case=Nom|Degree=Pos|Gender=Masc|Number=Sing'})\n",
      "('7', {'text': 'металлический', 'lemma': 'металлический', 'upos': 'ADJ', 'xpos': '_', 'feats': 'Case=Nom|Degree=Pos|Gender=Masc|Number=Sing'})\n",
      "('8', {'text': 'стул', 'lemma': 'стул', 'upos': 'NOUN', 'xpos': '_', 'feats': 'Animacy=Inan|Case=Nom|Gender=Masc|Number=Sing'})\n"
     ]
    }
   ],
   "source": [
    "for elem in pt.DG.nodes(data=True):\n",
    "    print(elem)"
   ]
  },
  {
   "cell_type": "code",
   "execution_count": 103,
   "metadata": {
    "collapsed": false
   },
   "outputs": [
    {
     "name": "stdout",
     "output_type": "stream",
     "text": [
      "('4', '1', {'dependency_relation': 'case'})\n",
      "('4', '2', {'dependency_relation': 'amod'})\n",
      "('4', '3', {'dependency_relation': 'amod'})\n",
      "('5', '4', {'dependency_relation': 'obl'})\n",
      "('5', '8', {'dependency_relation': 'nsubj'})\n",
      "('8', '6', {'dependency_relation': 'amod'})\n",
      "('8', '7', {'dependency_relation': 'amod'})\n"
     ]
    }
   ],
   "source": [
    "for elem in pt.DG.edges(data=True):\n",
    "    print(elem)"
   ]
  },
  {
   "cell_type": "markdown",
   "metadata": {},
   "source": [
    "### Визуализация физического графа из networkx при помощи matplotlib"
   ]
  },
  {
   "cell_type": "code",
   "execution_count": 104,
   "metadata": {
    "collapsed": false
   },
   "outputs": [],
   "source": [
    "labels=dict((n,d['text']) for n,d in pt.DG.nodes(data=True))"
   ]
  },
  {
   "cell_type": "code",
   "execution_count": 105,
   "metadata": {
    "collapsed": false
   },
   "outputs": [
    {
     "name": "stderr",
     "output_type": "stream",
     "text": [
      "/home/alex/anaconda3/envs/NLP/lib/python3.6/site-packages/networkx/drawing/nx_pylab.py:579: MatplotlibDeprecationWarning: \n",
      "The iterable function was deprecated in Matplotlib 3.1 and will be removed in 3.3. Use np.iterable instead.\n",
      "  if not cb.iterable(width):\n",
      "/home/alex/anaconda3/envs/NLP/lib/python3.6/site-packages/networkx/drawing/nx_pylab.py:676: MatplotlibDeprecationWarning: \n",
      "The iterable function was deprecated in Matplotlib 3.1 and will be removed in 3.3. Use np.iterable instead.\n",
      "  if cb.iterable(node_size):  # many node sizes\n"
     ]
    },
    {
     "data": {
      "image/png": "[encoded data removed]",
      "text/plain": [
       "<Figure size 432x288 with 1 Axes>"
      ]
     },
     "metadata": {},
     "output_type": "display_data"
    }
   ],
   "source": [
    "nx.draw(pt.DG, labels = labels)"
   ]
  },
  {
   "cell_type": "markdown",
   "metadata": {},
   "source": [
    "### Визуализация того же графа при помощи graphviz"
   ]
  },
  {
   "cell_type": "code",
   "execution_count": 106,
   "metadata": {
    "collapsed": false
   },
   "outputs": [
    {
     "data": {
      "image/svg+xml": [
       "<?xml version=\"1.0\" encoding=\"UTF-8\" standalone=\"no\"?>\n",
       "<!DOCTYPE svg PUBLIC \"-//W3C//DTD SVG 1.1//EN\"\n",
       " \"http://www.w3.org/Graphics/SVG/1.1/DTD/svg11.dtd\">\n",
       "<!-- Generated by graphviz version 2.40.1 (20161225.0304)\n",
       " -->\n",
       "<!-- Title: %3 Pages: 1 -->\n",
       "<svg width=\"565pt\" height=\"218pt\"\n",
       " viewBox=\"0.00 0.00 565.34 218.00\" xmlns=\"http://www.w3.org/2000/svg\" xmlns:xlink=\"http://www.w3.org/1999/xlink\">\n",
       "<g id=\"graph0\" class=\"graph\" transform=\"scale(1 1) rotate(0) translate(4 214)\">\n",
       "<title>%3</title>\n",
       "<polygon fill=\"#ffffff\" stroke=\"transparent\" points=\"-4,4 -4,-214 561.3408,-214 561.3408,4 -4,4\"/>\n",
       "<!-- 1 -->\n",
       "<g id=\"node1\" class=\"node\">\n",
       "<title>1</title>\n",
       "<ellipse fill=\"none\" stroke=\"#000000\" cx=\"34.4469\" cy=\"-18\" rx=\"34.394\" ry=\"18\"/>\n",
       "<text text-anchor=\"middle\" x=\"34.4469\" y=\"-14.3\" font-family=\"Times,serif\" font-size=\"14.00\" fill=\"#000000\">Перед</text>\n",
       "</g>\n",
       "<!-- 2 -->\n",
       "<g id=\"node2\" class=\"node\">\n",
       "<title>2</title>\n",
       "<ellipse fill=\"none\" stroke=\"#000000\" cx=\"130.4469\" cy=\"-18\" rx=\"43.5923\" ry=\"18\"/>\n",
       "<text text-anchor=\"middle\" x=\"130.4469\" y=\"-14.3\" font-family=\"Times,serif\" font-size=\"14.00\" fill=\"#000000\">красным</text>\n",
       "</g>\n",
       "<!-- 3 -->\n",
       "<g id=\"node3\" class=\"node\">\n",
       "<title>3</title>\n",
       "<ellipse fill=\"none\" stroke=\"#000000\" cx=\"249.4469\" cy=\"-18\" rx=\"57.3905\" ry=\"18\"/>\n",
       "<text text-anchor=\"middle\" x=\"249.4469\" y=\"-14.3\" font-family=\"Times,serif\" font-size=\"14.00\" fill=\"#000000\">деревянным</text>\n",
       "</g>\n",
       "<!-- 4 -->\n",
       "<g id=\"node4\" class=\"node\">\n",
       "<title>4</title>\n",
       "<ellipse fill=\"none\" stroke=\"#000000\" cx=\"190.4469\" cy=\"-105\" rx=\"38.1938\" ry=\"18\"/>\n",
       "<text text-anchor=\"middle\" x=\"190.4469\" y=\"-101.3\" font-family=\"Times,serif\" font-size=\"14.00\" fill=\"#000000\">столом</text>\n",
       "</g>\n",
       "<!-- 4&#45;&gt;1 -->\n",
       "<g id=\"edge1\" class=\"edge\">\n",
       "<title>4&#45;&gt;1</title>\n",
       "<path fill=\"none\" stroke=\"#000000\" d=\"M165.7283,-91.2146C139.0602,-76.342 96.4748,-52.5925 67.0743,-36.196\"/>\n",
       "<polygon fill=\"#000000\" stroke=\"#000000\" points=\"68.4672,-32.9654 58.0288,-31.1514 65.0577,-39.0789 68.4672,-32.9654\"/>\n",
       "<text text-anchor=\"middle\" x=\"134.4469\" y=\"-57.8\" font-family=\"Times,serif\" font-size=\"14.00\" fill=\"#000000\">case</text>\n",
       "</g>\n",
       "<!-- 4&#45;&gt;2 -->\n",
       "<g id=\"edge2\" class=\"edge\">\n",
       "<title>4&#45;&gt;2</title>\n",
       "<path fill=\"none\" stroke=\"#000000\" d=\"M178.5929,-87.8116C169.9385,-75.2628 158.057,-58.0346 148.2628,-43.833\"/>\n",
       "<polygon fill=\"#000000\" stroke=\"#000000\" points=\"151.0404,-41.6955 142.4818,-35.4505 145.2779,-45.6697 151.0404,-41.6955\"/>\n",
       "<text text-anchor=\"middle\" x=\"179.9469\" y=\"-57.8\" font-family=\"Times,serif\" font-size=\"14.00\" fill=\"#000000\">amod</text>\n",
       "</g>\n",
       "<!-- 4&#45;&gt;3 -->\n",
       "<g id=\"edge3\" class=\"edge\">\n",
       "<title>4&#45;&gt;3</title>\n",
       "<path fill=\"none\" stroke=\"#000000\" d=\"M202.1034,-87.8116C210.5579,-75.3448 222.1444,-58.2596 231.7389,-44.1119\"/>\n",
       "<polygon fill=\"#000000\" stroke=\"#000000\" points=\"234.6936,-45.9908 237.4096,-35.75 228.9001,-42.0619 234.6936,-45.9908\"/>\n",
       "<text text-anchor=\"middle\" x=\"239.9469\" y=\"-57.8\" font-family=\"Times,serif\" font-size=\"14.00\" fill=\"#000000\">amod</text>\n",
       "</g>\n",
       "<!-- 5 -->\n",
       "<g id=\"node5\" class=\"node\">\n",
       "<title>5</title>\n",
       "<ellipse fill=\"none\" stroke=\"#000000\" cx=\"246.4469\" cy=\"-192\" rx=\"32.4942\" ry=\"18\"/>\n",
       "<text text-anchor=\"middle\" x=\"246.4469\" y=\"-188.3\" font-family=\"Times,serif\" font-size=\"14.00\" fill=\"#000000\">стоит</text>\n",
       "</g>\n",
       "<!-- 5&#45;&gt;4 -->\n",
       "<g id=\"edge4\" class=\"edge\">\n",
       "<title>5&#45;&gt;4</title>\n",
       "<path fill=\"none\" stroke=\"#000000\" d=\"M235.3831,-174.8116C227.382,-162.3812 216.4253,-145.3593 207.3343,-131.2357\"/>\n",
       "<polygon fill=\"#000000\" stroke=\"#000000\" points=\"210.035,-128.9648 201.6794,-122.4505 204.1489,-132.7535 210.035,-128.9648\"/>\n",
       "<text text-anchor=\"middle\" x=\"231.4469\" y=\"-144.8\" font-family=\"Times,serif\" font-size=\"14.00\" fill=\"#000000\">obl</text>\n",
       "</g>\n",
       "<!-- 8 -->\n",
       "<g id=\"node8\" class=\"node\">\n",
       "<title>8</title>\n",
       "<ellipse fill=\"none\" stroke=\"#000000\" cx=\"363.4469\" cy=\"-105\" rx=\"27.8951\" ry=\"18\"/>\n",
       "<text text-anchor=\"middle\" x=\"363.4469\" y=\"-101.3\" font-family=\"Times,serif\" font-size=\"14.00\" fill=\"#000000\">стул</text>\n",
       "</g>\n",
       "<!-- 5&#45;&gt;8 -->\n",
       "<g id=\"edge5\" class=\"edge\">\n",
       "<title>5&#45;&gt;8</title>\n",
       "<path fill=\"none\" stroke=\"#000000\" d=\"M266.0301,-177.4382C285.4413,-163.0042 315.3145,-140.7908 336.8624,-124.768\"/>\n",
       "<polygon fill=\"#000000\" stroke=\"#000000\" points=\"339.0232,-127.5228 344.9594,-118.7471 334.8463,-121.9056 339.0232,-127.5228\"/>\n",
       "<text text-anchor=\"middle\" x=\"327.4469\" y=\"-144.8\" font-family=\"Times,serif\" font-size=\"14.00\" fill=\"#000000\">nsubj</text>\n",
       "</g>\n",
       "<!-- 6 -->\n",
       "<g id=\"node6\" class=\"node\">\n",
       "<title>6</title>\n",
       "<ellipse fill=\"none\" stroke=\"#000000\" cx=\"363.4469\" cy=\"-18\" rx=\"38.1938\" ry=\"18\"/>\n",
       "<text text-anchor=\"middle\" x=\"363.4469\" y=\"-14.3\" font-family=\"Times,serif\" font-size=\"14.00\" fill=\"#000000\">черный</text>\n",
       "</g>\n",
       "<!-- 7 -->\n",
       "<g id=\"node7\" class=\"node\">\n",
       "<title>7</title>\n",
       "<ellipse fill=\"none\" stroke=\"#000000\" cx=\"488.4469\" cy=\"-18\" rx=\"68.7879\" ry=\"18\"/>\n",
       "<text text-anchor=\"middle\" x=\"488.4469\" y=\"-14.3\" font-family=\"Times,serif\" font-size=\"14.00\" fill=\"#000000\">металлический</text>\n",
       "</g>\n",
       "<!-- 8&#45;&gt;6 -->\n",
       "<g id=\"edge6\" class=\"edge\">\n",
       "<title>8&#45;&gt;6</title>\n",
       "<path fill=\"none\" stroke=\"#000000\" d=\"M363.4469,-86.9735C363.4469,-75.1918 363.4469,-59.5607 363.4469,-46.1581\"/>\n",
       "<polygon fill=\"#000000\" stroke=\"#000000\" points=\"366.947,-46.0033 363.4469,-36.0034 359.947,-46.0034 366.947,-46.0033\"/>\n",
       "<text text-anchor=\"middle\" x=\"378.9469\" y=\"-57.8\" font-family=\"Times,serif\" font-size=\"14.00\" fill=\"#000000\">amod</text>\n",
       "</g>\n",
       "<!-- 8&#45;&gt;7 -->\n",
       "<g id=\"edge7\" class=\"edge\">\n",
       "<title>8&#45;&gt;7</title>\n",
       "<path fill=\"none\" stroke=\"#000000\" d=\"M382.4318,-91.7866C401.8966,-78.2391 432.5402,-56.9111 455.8864,-40.6621\"/>\n",
       "<polygon fill=\"#000000\" stroke=\"#000000\" points=\"457.9149,-43.5146 464.1232,-34.9293 453.9161,-37.7692 457.9149,-43.5146\"/>\n",
       "<text text-anchor=\"middle\" x=\"448.9469\" y=\"-57.8\" font-family=\"Times,serif\" font-size=\"14.00\" fill=\"#000000\">amod</text>\n",
       "</g>\n",
       "</g>\n",
       "</svg>\n"
      ],
      "text/plain": [
       "<graphviz.dot.Digraph at 0x7f28bbbca940>"
      ]
     },
     "execution_count": 106,
     "metadata": {},
     "output_type": "execute_result"
    }
   ],
   "source": [
    "pt.VDG"
   ]
  },
  {
   "cell_type": "markdown",
   "metadata": {},
   "source": [
    "### Создание подграфа\n",
    "Создается подграф (поддерево), вершиной которого является стол, индекс узла, соответствующего слову \"стол\" - '4'"
   ]
  },
  {
   "cell_type": "code",
   "execution_count": 107,
   "metadata": {
    "collapsed": true
   },
   "outputs": [],
   "source": [
    "sg, vsg = pt.create_subgraph('4')"
   ]
  },
  {
   "cell_type": "code",
   "execution_count": 108,
   "metadata": {
    "collapsed": false
   },
   "outputs": [
    {
     "data": {
      "image/svg+xml": [
       "<?xml version=\"1.0\" encoding=\"UTF-8\" standalone=\"no\"?>\n",
       "<!DOCTYPE svg PUBLIC \"-//W3C//DTD SVG 1.1//EN\"\n",
       " \"http://www.w3.org/Graphics/SVG/1.1/DTD/svg11.dtd\">\n",
       "<!-- Generated by graphviz version 2.40.1 (20161225.0304)\n",
       " -->\n",
       "<!-- Title: %3 Pages: 1 -->\n",
       "<svg width=\"315pt\" height=\"131pt\"\n",
       " viewBox=\"0.00 0.00 314.64 131.00\" xmlns=\"http://www.w3.org/2000/svg\" xmlns:xlink=\"http://www.w3.org/1999/xlink\">\n",
       "<g id=\"graph0\" class=\"graph\" transform=\"scale(1 1) rotate(0) translate(4 127)\">\n",
       "<title>%3</title>\n",
       "<polygon fill=\"#ffffff\" stroke=\"transparent\" points=\"-4,4 -4,-127 310.6419,-127 310.6419,4 -4,4\"/>\n",
       "<!-- 1 -->\n",
       "<g id=\"node1\" class=\"node\">\n",
       "<title>1</title>\n",
       "<ellipse fill=\"none\" stroke=\"#000000\" cx=\"34.4469\" cy=\"-18\" rx=\"34.394\" ry=\"18\"/>\n",
       "<text text-anchor=\"middle\" x=\"34.4469\" y=\"-14.3\" font-family=\"Times,serif\" font-size=\"14.00\" fill=\"#000000\">Перед</text>\n",
       "</g>\n",
       "<!-- 2 -->\n",
       "<g id=\"node2\" class=\"node\">\n",
       "<title>2</title>\n",
       "<ellipse fill=\"none\" stroke=\"#000000\" cx=\"130.4469\" cy=\"-18\" rx=\"43.5923\" ry=\"18\"/>\n",
       "<text text-anchor=\"middle\" x=\"130.4469\" y=\"-14.3\" font-family=\"Times,serif\" font-size=\"14.00\" fill=\"#000000\">красным</text>\n",
       "</g>\n",
       "<!-- 3 -->\n",
       "<g id=\"node3\" class=\"node\">\n",
       "<title>3</title>\n",
       "<ellipse fill=\"none\" stroke=\"#000000\" cx=\"249.4469\" cy=\"-18\" rx=\"57.3905\" ry=\"18\"/>\n",
       "<text text-anchor=\"middle\" x=\"249.4469\" y=\"-14.3\" font-family=\"Times,serif\" font-size=\"14.00\" fill=\"#000000\">деревянным</text>\n",
       "</g>\n",
       "<!-- 4 -->\n",
       "<g id=\"node4\" class=\"node\">\n",
       "<title>4</title>\n",
       "<ellipse fill=\"none\" stroke=\"#000000\" cx=\"130.4469\" cy=\"-105\" rx=\"38.1938\" ry=\"18\"/>\n",
       "<text text-anchor=\"middle\" x=\"130.4469\" y=\"-101.3\" font-family=\"Times,serif\" font-size=\"14.00\" fill=\"#000000\">столом</text>\n",
       "</g>\n",
       "<!-- 4&#45;&gt;1 -->\n",
       "<g id=\"edge1\" class=\"edge\">\n",
       "<title>4&#45;&gt;1</title>\n",
       "<path fill=\"none\" stroke=\"#000000\" d=\"M112.3901,-88.636C97.4537,-75.0999 76.0767,-55.727 59.4867,-40.6923\"/>\n",
       "<polygon fill=\"#000000\" stroke=\"#000000\" points=\"61.5364,-37.8264 51.7762,-33.7047 56.8358,-43.0134 61.5364,-37.8264\"/>\n",
       "<text text-anchor=\"middle\" x=\"100.4469\" y=\"-57.8\" font-family=\"Times,serif\" font-size=\"14.00\" fill=\"#000000\">case</text>\n",
       "</g>\n",
       "<!-- 4&#45;&gt;2 -->\n",
       "<g id=\"edge2\" class=\"edge\">\n",
       "<title>4&#45;&gt;2</title>\n",
       "<path fill=\"none\" stroke=\"#000000\" d=\"M130.4469,-86.9735C130.4469,-75.1918 130.4469,-59.5607 130.4469,-46.1581\"/>\n",
       "<polygon fill=\"#000000\" stroke=\"#000000\" points=\"133.947,-46.0033 130.4469,-36.0034 126.947,-46.0034 133.947,-46.0033\"/>\n",
       "<text text-anchor=\"middle\" x=\"145.9469\" y=\"-57.8\" font-family=\"Times,serif\" font-size=\"14.00\" fill=\"#000000\">amod</text>\n",
       "</g>\n",
       "<!-- 4&#45;&gt;3 -->\n",
       "<g id=\"edge3\" class=\"edge\">\n",
       "<title>4&#45;&gt;3</title>\n",
       "<path fill=\"none\" stroke=\"#000000\" d=\"M151.1752,-89.8458C169.6696,-76.3246 197.0161,-56.3318 218.169,-40.8671\"/>\n",
       "<polygon fill=\"#000000\" stroke=\"#000000\" points=\"220.5131,-43.4889 226.5202,-34.7616 216.3818,-37.8381 220.5131,-43.4889\"/>\n",
       "<text text-anchor=\"middle\" x=\"211.9469\" y=\"-57.8\" font-family=\"Times,serif\" font-size=\"14.00\" fill=\"#000000\">amod</text>\n",
       "</g>\n",
       "</g>\n",
       "</svg>\n"
      ],
      "text/plain": [
       "<graphviz.dot.Digraph at 0x7f28ca97f2b0>"
      ]
     },
     "execution_count": 108,
     "metadata": {},
     "output_type": "execute_result"
    }
   ],
   "source": [
    "vsg"
   ]
  },
  {
   "cell_type": "code",
   "execution_count": null,
   "metadata": {
    "collapsed": true
   },
   "outputs": [],
   "source": []
  }
 ],
 "metadata": {
  "anaconda-cloud": {},
  "kernelspec": {
   "display_name": "Python [conda env:NLP]",
   "language": "python",
   "name": "conda-env-NLP-py"
  },
  "language_info": {
   "codemirror_mode": {
    "name": "ipython",
    "version": 3
   },
   "file_extension": ".py",
   "mimetype": "text/x-python",
   "name": "python",
   "nbconvert_exporter": "python",
   "pygments_lexer": "ipython3",
   "version": "3.6.7"
  }
 },
 "nbformat": 4,
 "nbformat_minor": 2
}
